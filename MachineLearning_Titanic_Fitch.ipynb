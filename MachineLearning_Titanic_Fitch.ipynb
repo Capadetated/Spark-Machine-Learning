{
 "cells": [
  {
   "cell_type": "markdown",
   "metadata": {},
   "source": [
    "# Predict Survival of the Titanic Passengers"
   ]
  },
  {
   "cell_type": "markdown",
   "metadata": {},
   "source": [
    "You will use logistic regression method to predict if a passenger survived the Ill-fated voyage of the Titanic (1912). The passenger data includes name, age, ticket class, and sex.  If you watched the Titanic movie, you might recall that the first class passengers and women with children received preference to lifeboats.  Hence, gender, age, and ticket class could be the key predictors of survival."
   ]
  },
  {
   "cell_type": "markdown",
   "metadata": {},
   "source": [
    "## Table of Contents\n",
    "- [Titanic Data](#Titanic_Data)\n",
    "- [Load Libraries](#load_libraries)\n",
    "- [Access data](#access_data)\n",
    "- [Explore Data](#Explore)\n",
    "- [Parse Data](#Parse)\n",
    "- [Split Data into Training and Test set](#training_test)\n",
    "- [Build Logistic Regression Model](#build_model)\n",
    "- [Predict for Test data](#test_data)\n",
    "- [Evaluate the Model](#evaluate_model)\n",
    "- [ROC curve plot](#ROC_plot)"
   ]
  },
  {
   "cell_type": "markdown",
   "metadata": {},
   "source": [
    "<a id=\"Titanic_Data\"></a>\n",
    "## Titanic Data \n",
    "You will analyze the random sample of the Titanic passengers data. The Dataset Source: [https://ww2.amstat.org/publications/jse/v3n3/datasets.dawson.html](https://ww2.amstat.org/publications/jse/v3n3/datasets.dawson.html)"
   ]
  },
  {
   "cell_type": "markdown",
   "metadata": {},
   "source": [
    " <table style=\"font-size: 16px; text-align: left;\" width=100%>\n",
    "  <tr>\n",
    "  <td width=5% style=\"text-align: center; font-size: 16px\">\n",
    "   </td>\n",
    "   <td width=11% style=\"text-align: left; font-size: 16px\">\n",
    "   <b>Variable</b>\n",
    "   </td>\n",
    "   <td width=53% style=\"text-align: left; font-size: 16px\">\n",
    "   <b> Description</b>\n",
    "   </td>\n",
    "    <td width=31% rowspan=7>\n",
    " \n",
    "   <img src='https://www.khaskhabar.com/images/picture_image/3690-titanic-ship.jpg?raw=true'></img>\n",
    "  \n",
    "  </td>\n",
    "  </tr>\n",
    "  <tr>\n",
    "   <td width=5% style=\"text-align: center; font-size: 16px\">\n",
    "     0 \n",
    "   </td>\n",
    "   <td width=11% style=\"text-align: left; font-size: 16px\">\n",
    "     Name \n",
    "   </td>\n",
    "   <td width=53% style=\"text-align: left; font-size: 16px\">\n",
    "     Passenger's first and last name. \n",
    "   </td>\n",
    "  \n",
    " </tr>\n",
    " <tr>\n",
    "   <td style=\"text-align: center; font-size: 16px\">\n",
    "    1\n",
    "  </td>\n",
    "  <td style=\"text-align: left; font-size: 16px\">\n",
    "   PClass \n",
    "  </td>\n",
    "  <td style=\"text-align: left; font-size: 16px\">\n",
    "   Ticket class (1st, 2nd, or 3rd) based on socio-economic status\n",
    "  </td>\n",
    " </tr>\n",
    " <tr>\n",
    "  <td style=\"text-align: center; font-size: 16px\">\n",
    "   2 \n",
    "  </td>\n",
    "  <td style=\"text-align: left; font-size: 16px\">\n",
    "  Age \n",
    "  </td>\n",
    "  <td  style=\"text-align: left; font-size: 16px\">\n",
    "  Passenger's estimated age in years\n",
    "  </td>\n",
    " </tr>\n",
    " <tr>\n",
    "  <td style=\"text-align: center; font-size: 16px\">\n",
    "  3 \n",
    "  </td>\n",
    "  <td style=\"text-align: left; font-size: 16px\">\n",
    "  Sex \n",
    "  </td>\n",
    "  <td style=\"text-align: left; font-size: 16px\">\n",
    "  male or female\n",
    "  </td>\n",
    " </tr>\n",
    " <tr>\n",
    "  <td style=\"text-align: center; font-size: 16px\">\n",
    "  4 \n",
    "  </td>\n",
    "  <td style=\"text-align: left; font-size: 16px\">\n",
    "  Survived\n",
    "  </td>\n",
    "  <td style=\"text-align: left; font-size: 16px\">\n",
    "  Indicates if the passenger survived the sinking of the Titanic (1=survived; 0=died)\n",
    "  </td>\n",
    " </tr>\n",
    " <tr>\n",
    "  <td style=\"text-align: center; font-size: 16px\">\n",
    "   5\n",
    "  </td>\n",
    "  <td style=\"text-align: left; font-size: 16px\">\n",
    "  PersonID \n",
    "  </td>\n",
    "  <td style=\"text-align: left; font-size: 16px\">\n",
    "  Passenger's unique identifier\n",
    "  </td>\n",
    " </tr>\n",
    "</table>"
   ]
  },
  {
   "cell_type": "markdown",
   "metadata": {},
   "source": [
    "<a id=\"load_libraries\"></a>\n",
    "## Load Libraries\n",
    "\n",
    "The Spark and Python libraries that you need are preinstalled in the notebook environment and only need to be loaded.\n",
    "\n",
    "Run the following cell to load the libraries you will work with in this notebook:"
   ]
  },
  {
   "cell_type": "code",
   "execution_count": 5,
   "metadata": {},
   "outputs": [
    {
     "name": "stderr",
     "output_type": "stream",
     "text": [
      "/opt/ibm/spark/python/lib/pyspark.zip/pyspark/sql/context.py:112: FutureWarning: Deprecated in 3.0.0. Use SparkSession.builder.getOrCreate() instead.\n"
     ]
    }
   ],
   "source": [
    "# PySpark Machine Learning Library\n",
    "from pyspark.ml import Pipeline\n",
    "from pyspark.ml.classification import LogisticRegression\n",
    "from pyspark.ml.feature import HashingTF, Tokenizer\n",
    "from pyspark.sql import Row, SQLContext\n",
    "\n",
    "import os\n",
    "import sys\n",
    "from pyspark import SparkConf\n",
    "from pyspark import SparkContext\n",
    "from pyspark.sql import SQLContext\n",
    "from pyspark.sql.types import *\n",
    "\n",
    "from pyspark.mllib.classification import LogisticRegressionWithSGD\n",
    "from pyspark.mllib.regression import LabeledPoint\n",
    "from numpy import array\n",
    "\n",
    "from pyspark.ml.evaluation import MulticlassClassificationEvaluator\n",
    "# Library for confusion matrix, precision, test error\n",
    "from pyspark.mllib.evaluation import MulticlassMetrics\n",
    "# Library For Area under ROC curve and Area under precision-recall curve\n",
    "from pyspark.mllib.evaluation import BinaryClassificationMetrics\n",
    "\n",
    "# Assign resources to the application\n",
    "sqlContext = SQLContext(sc)\n",
    "\n",
    "# packages for data analysis\n",
    "import numpy as np\n",
    "import pandas as pd"
   ]
  },
  {
   "cell_type": "code",
   "execution_count": 6,
   "metadata": {},
   "outputs": [],
   "source": [
    "# The data will be loaded into an array.\n",
    "# This is the summary of the data structure, including the column position and name.\n",
    "# The first filed starts from position 0. \n",
    "\n",
    "# 0 Name    -  Passenger first and last name.\n",
    "# 1 PClass  -  Ticket class (1st, 2nd, or 3rd) based on Socio-Economic status\n",
    "# 2 Age\n",
    "# 3 Sex\n",
    "# 4 Survived -  1 if the passenger survived;  0 if the passenger died\n",
    "# 5 PersonID\n",
    "\n",
    "# Label is a target variable. PersonInfo is a list of independent variables besides unique identifier\n",
    "\n",
    "LabeledDocument = Row(\"PersonID\", \"PersonInfo\", \"label\")\n",
    "\n",
    "# Define a function that parses each raw in CSV file and returns an object of type LabeledDocument\n",
    "\n",
    "def parseDocument(line):\n",
    "    values = [str(x) for x in line.split(',')] \n",
    "    if (values[4]>'0'):\n",
    "      Survived = 1.0\n",
    "    else:\n",
    "      Survived = 0.0\n",
    "        \n",
    "    textValue = str(values[1]) + \" \" + str(values[2])+\" \" + str(values[3])\n",
    "    return LabeledDocument(values[5], textValue, Survived)"
   ]
  },
  {
   "cell_type": "markdown",
   "metadata": {},
   "source": [
    "<a id=\"access_data\"></a>\n",
    "## Access Data\n",
    "To read a file from Object Storage, you must setup the Spark configuration with your Object Storage credentials. \n",
    "\n",
    "To do this, click on the cell below and select the **Insert to code > Insert Spark Session DataFrame** function from the Files tab below the data file you want to work with."
   ]
  },
  {
   "cell_type": "markdown",
   "metadata": {},
   "source": [
    "<div class=\"alert alert-block alert-info\">The following code contains the credentials for a file in your IBM Cloud Object Storage. </div>"
   ]
  },
  {
   "cell_type": "code",
   "execution_count": 7,
   "metadata": {},
   "outputs": [
    {
     "name": "stdout",
     "output_type": "stream",
     "text": [
      "+--------------------+------+----+------+--------+--------+\n",
      "|                Name|PClass| Age|   Sex|Survived|PersonID|\n",
      "+--------------------+------+----+------+--------+--------+\n",
      "|Allen Miss Elisab...|   1st|29.0|female|       1|       1|\n",
      "|Allison Miss Hele...|   1st| 2.0|female|       0|       2|\n",
      "|Allison Mr Hudson...|   1st|30.0|  male|       0|       3|\n",
      "|Allison Mrs Hudso...|   1st|25.0|female|       0|       4|\n",
      "|Allison Master Hu...|   1st|0.92|  male|       1|       5|\n",
      "|   Anderson Mr Harry|   1st|47.0|  male|       1|       6|\n",
      "|Andrews Miss Korn...|   1st|63.0|female|       1|       7|\n",
      "|Andrews Mr Thomas jr|   1st|39.0|  male|       0|       8|\n",
      "|Appleton Mrs Edwa...|   1st|58.0|female|       1|       9|\n",
      "|Artagaveytia Mr R...|   1st|71.0|  male|       0|      10|\n",
      "+--------------------+------+----+------+--------+--------+\n",
      "only showing top 10 rows\n",
      "\n"
     ]
    }
   ],
   "source": [
    "\n",
    "import ibmos2spark\n",
    "\n",
    "# @hidden_cell\n",
    "# The following code accesses a file in your IBM Cloud Object Storage. It includes your credentials.\n",
    "# You might want to remove those credentials before you share the notebook.\n",
    "\n",
    "metadata = {\n",
    "    'endpoint': 'https://s3.private.us-south.cloud-object-storage.appdomain.cloud',\n",
    "    'service_id': 'iam-ServiceId-03d8a548-4ab7-49b7-a838-aeb6c3361d37',\n",
    "    'iam_service_endpoint': 'https://iam.cloud.ibm.com/oidc/token',\n",
    "    'api_key': 'fRvFmMME4TqenKiyVGLqhx2OaFDTqYkisC5zdCmh8WHD'\n",
    "}\n",
    "\n",
    "configuration_name = 'os_9047c094582b469abafd61f4a5efe4b4_configs'\n",
    "cos = ibmos2spark.CloudObjectStorage(sc, metadata, configuration_name, 'bluemix_cos')\n",
    "url = cos.url('Titanic.csv', 'apachesparktutorial-donotdelete-pr-pcnqnxgnxjduaw')\n",
    "\n",
    "df_data_1 = spark.read \\\n",
    "    .format('org.apache.spark.sql.execution.datasources.csv.CSVFileFormat') \\\n",
    "    .option('header', 'true') \\\n",
    "    .option('inferSchema', 'true')\\\n",
    "    .load(url)\n",
    "df_data_1.show(10)\n",
    "\n"
   ]
  },
  {
   "cell_type": "markdown",
   "metadata": {},
   "source": [
    "<a id=\"Explore\"></a>\n",
    "## Explore Data"
   ]
  },
  {
   "cell_type": "code",
   "execution_count": 8,
   "metadata": {},
   "outputs": [
    {
     "name": "stdout",
     "output_type": "stream",
     "text": [
      "Number of Passengers 756\n"
     ]
    }
   ],
   "source": [
    "print('Number of Passengers', df_data_1.count())"
   ]
  },
  {
   "cell_type": "code",
   "execution_count": 9,
   "metadata": {},
   "outputs": [
    {
     "name": "stdout",
     "output_type": "stream",
     "text": [
      "+--------+-----+\n",
      "|Survived|count|\n",
      "+--------+-----+\n",
      "|       1|  313|\n",
      "|       0|  443|\n",
      "+--------+-----+\n",
      "\n"
     ]
    }
   ],
   "source": [
    "#Number of passengers who survived and number passengers who died\n",
    "df_data_1.groupby('Survived').count().show()"
   ]
  },
  {
   "cell_type": "code",
   "execution_count": 10,
   "metadata": {},
   "outputs": [
    {
     "name": "stdout",
     "output_type": "stream",
     "text": [
      "+---------------+---+---+\n",
      "|PClass_Survived|  0|  1|\n",
      "+---------------+---+---+\n",
      "|            2nd|116| 96|\n",
      "|            1st| 87|139|\n",
      "|            3rd|240| 78|\n",
      "+---------------+---+---+\n",
      "\n"
     ]
    },
    {
     "data": {
      "text/plain": [
       "<Axes: title={'center': 'Survival by Socio-Economic Class'}, xlabel='PClass_Survived'>"
      ]
     },
     "execution_count": 10,
     "metadata": {},
     "output_type": "execute_result"
    },
    {
     "data": {
      "image/png": "[encoded data removed]",
      "text/plain": [
       "<Figure size 640x480 with 1 Axes>"
      ]
     },
     "metadata": {},
     "output_type": "display_data"
    }
   ],
   "source": [
    "#Number of passengers who survived and number passengers who died by Socio-Economic class\n",
    "import matplotlib.pyplot as plt\n",
    "%matplotlib inline\n",
    "df_data_1.crosstab('PClass', 'Survived').show()\n",
    "df=df_data_1.crosstab('PClass', 'Survived').toPandas()\n",
    "df.plot.bar(x=\"PClass_Survived\", legend=True , title=\"Survival by Socio-Economic Class\")"
   ]
  },
  {
   "cell_type": "code",
   "execution_count": 11,
   "metadata": {},
   "outputs": [
    {
     "data": {
      "text/html": [
       "<div>\n",
       "<style scoped>\n",
       "    .dataframe tbody tr th:only-of-type {\n",
       "        vertical-align: middle;\n",
       "    }\n",
       "\n",
       "    .dataframe tbody tr th {\n",
       "        vertical-align: top;\n",
       "    }\n",
       "\n",
       "    .dataframe thead th {\n",
       "        text-align: right;\n",
       "    }\n",
       "</style>\n",
       "<table border=\"1\" class=\"dataframe\">\n",
       "  <thead>\n",
       "    <tr style=\"text-align: right;\">\n",
       "      <th></th>\n",
       "      <th>Survived</th>\n",
       "      <th>avg(Age)</th>\n",
       "    </tr>\n",
       "  </thead>\n",
       "  <tbody>\n",
       "    <tr>\n",
       "      <th>0</th>\n",
       "      <td>0</td>\n",
       "      <td>31.131670</td>\n",
       "    </tr>\n",
       "    <tr>\n",
       "      <th>1</th>\n",
       "      <td>1</td>\n",
       "      <td>29.359585</td>\n",
       "    </tr>\n",
       "  </tbody>\n",
       "</table>\n",
       "</div>"
      ],
      "text/plain": [
       "   Survived   avg(Age)\n",
       "0         0  31.131670\n",
       "1         1  29.359585"
      ]
     },
     "execution_count": 11,
     "metadata": {},
     "output_type": "execute_result"
    }
   ],
   "source": [
    "# Average age by survival outcome\n",
    "# Convert Age data type from string to numeric.\n",
    "pdf=df_data_1.toPandas()\n",
    "pdf[\"Age\"]=pd.to_numeric(pdf.Age)\n",
    "\n",
    "df=sqlContext.createDataFrame(pdf)\n",
    "\n",
    "PAge=df.groupby(['Survived'])\\\n",
    ".agg({\"Age\": \"AVG\"}).toPandas()\n",
    "PAge"
   ]
  },
  {
   "cell_type": "code",
   "execution_count": 12,
   "metadata": {},
   "outputs": [
    {
     "data": {
      "text/plain": [
       "<Axes: title={'center': 'Age distribution'}, ylabel='Frequency'>"
      ]
     },
     "execution_count": 12,
     "metadata": {},
     "output_type": "execute_result"
    },
    {
     "data": {
      "image/png": "[encoded data removed]",
      "text/plain": [
       "<Figure size 640x480 with 1 Axes>"
      ]
     },
     "metadata": {},
     "output_type": "display_data"
    }
   ],
   "source": [
    "#Age distribution for all passengers\n",
    "df.toPandas()[\"Age\"].plot.hist(x=\"Age\", title=\"Age distribution\")"
   ]
  },
  {
   "cell_type": "markdown",
   "metadata": {},
   "source": [
    "<a id=\"Parse\"></a>\n",
    "## Parse Data\n",
    "Now let's load the data into a `Spark RDD` and output the number of rows and first 5 rows.\n",
    "Each project you create has a bucket in your object storage. You may get the bucket name from the project Settings page. Replace the string `BUCKET` to the bucket name"
   ]
  },
  {
   "cell_type": "code",
   "execution_count": 13,
   "metadata": {},
   "outputs": [
    {
     "name": "stdout",
     "output_type": "stream",
     "text": [
      "Total records in the data set: 757\n",
      "The first 5 rows\n"
     ]
    },
    {
     "data": {
      "text/plain": [
       "['Name,PClass,Age,Sex,Survived,PersonID',\n",
       " 'Allen Miss Elisabeth Walton,1st,29,female,1,1',\n",
       " 'Allison Miss Helen Loraine,1st,2,female,0,2',\n",
       " 'Allison Mr Hudson Joshua Creighton,1st,30,male,0,3',\n",
       " 'Allison Mrs Hudson JC (Bessie Waldo Daniels),1st,25,female,0,4']"
      ]
     },
     "execution_count": 13,
     "metadata": {},
     "output_type": "execute_result"
    }
   ],
   "source": [
    "data = sc.textFile(cos.url('Titanic.csv', 'apachesparktutorial-donotdelete-pr-pcnqnxgnxjduaw'))\n",
    "print (\"Total records in the data set:\", data.count())\n",
    "print (\"The first 5 rows\")\n",
    "data.take(5)"
   ]
  },
  {
   "cell_type": "markdown",
   "metadata": {},
   "source": [
    "Create DataFrame from RDD"
   ]
  },
  {
   "cell_type": "code",
   "execution_count": 14,
   "metadata": {},
   "outputs": [
    {
     "name": "stdout",
     "output_type": "stream",
     "text": [
      "Number of records: 756\n",
      "First 5 records: \n"
     ]
    },
    {
     "data": {
      "text/plain": [
       "[Row(PersonID='1', PersonInfo='1st 29 female', label=1.0),\n",
       " Row(PersonID='2', PersonInfo='1st 2 female', label=0.0),\n",
       " Row(PersonID='3', PersonInfo='1st 30 male', label=0.0),\n",
       " Row(PersonID='4', PersonInfo='1st 25 female', label=0.0),\n",
       " Row(PersonID='5', PersonInfo='1st 0.92 male', label=1.0)]"
      ]
     },
     "execution_count": 14,
     "metadata": {},
     "output_type": "execute_result"
    }
   ],
   "source": [
    "#Parse and Load the data into a dataframe. The code calls the parsing function defined above\n",
    "documents = data.filter(lambda s: \"Name\" not in s).map(parseDocument)\n",
    "TitanicData = documents.toDF() # ToDataFrame\n",
    "print (\"Number of records: \" + str(TitanicData.count()))\n",
    "print ( \"First 5 records: \")\n",
    "TitanicData.take(5)"
   ]
  },
  {
   "cell_type": "markdown",
   "metadata": {},
   "source": [
    "<a id=\"training_test\"></a>\n",
    "## Split Data into Training and Test set\n",
    "\n",
    "We divide the data into training and test set.  The training set is used to build the model to be used on future data, and the test set is used to evaluate the model."
   ]
  },
  {
   "cell_type": "code",
   "execution_count": 15,
   "metadata": {},
   "outputs": [
    {
     "name": "stdout",
     "output_type": "stream",
     "text": [
      "Number of records in the training set: 596\n",
      "Number of records in the test set: 160\n",
      "First 20 records in the training set: \n",
      "+--------+-------------+-----+\n",
      "|PersonID|   PersonInfo|label|\n",
      "+--------+-------------+-----+\n",
      "|       1|1st 29 female|  1.0|\n",
      "|     100|  1st 46 male|  0.0|\n",
      "|     101|  1st 25 male|  1.0|\n",
      "|     102|1st 21 female|  1.0|\n",
      "|     103|  1st 48 male|  1.0|\n",
      "|     104|1st 49 female|  1.0|\n",
      "|     105|  1st 45 male|  0.0|\n",
      "|     107|  1st 55 male|  0.0|\n",
      "|     108|1st 52 female|  1.0|\n",
      "|     109|1st 24 female|  1.0|\n",
      "|      11|  1st 47 male|  0.0|\n",
      "|     110|1st 16 female|  1.0|\n",
      "|     111|1st 44 female|  1.0|\n",
      "|     112|1st 51 female|  1.0|\n",
      "|     114|1st 35 female|  1.0|\n",
      "|     115|  1st 35 male|  1.0|\n",
      "|     116|  1st 38 male|  1.0|\n",
      "|     117|1st 35 female|  1.0|\n",
      "|     118|1st 50 female|  0.0|\n",
      "|     119|  1st 49 male|  1.0|\n",
      "+--------+-------------+-----+\n",
      "only showing top 20 rows\n",
      "\n"
     ]
    }
   ],
   "source": [
    "# Divide the data into training and test set\n",
    "(train, test) = TitanicData.randomSplit([0.8, 0.2])\n",
    "print (\"Number of records in the training set: \" + str(train.count()))\n",
    "print (\"Number of records in the test set: \" + str(test.count()))\n",
    "# Output first 20 records in the training set\n",
    "print (\"First 20 records in the training set: \")\n",
    "train.show()"
   ]
  },
  {
   "cell_type": "markdown",
   "metadata": {},
   "source": [
    "<a id=\"build_model\"></a>\n",
    "## Build Logistic Regression Model\n",
    "\n",
    "We use the Pipeline of SparkML to build the Logistic Regression Model"
   ]
  },
  {
   "cell_type": "code",
   "execution_count": 16,
   "metadata": {},
   "outputs": [],
   "source": [
    "# set up Logistic Regression using Pipeline of SparkML\n",
    "tokenizer = Tokenizer(inputCol=\"PersonInfo\", outputCol=\"words\")\n",
    "hashingTF = HashingTF(inputCol=tokenizer.getOutputCol(), outputCol=\"features\")\n",
    "lr = LogisticRegression(maxIter=10, regParam=0.01)\n",
    "pipeline = Pipeline(stages=[tokenizer, hashingTF, lr])"
   ]
  },
  {
   "cell_type": "code",
   "execution_count": 17,
   "metadata": {
    "scrolled": true
   },
   "outputs": [],
   "source": [
    "# set up Logistic Regression Model\n",
    "# the stages are executed in order\n",
    "model = pipeline.fit(train)\n",
    "#[stage.coefficients for stage in model.stages if hasattr(stage, \"coefficients\")]\n",
    "# model.stages[2].intercept"
   ]
  },
  {
   "cell_type": "markdown",
   "metadata": {},
   "source": [
    "<a id=\"test_data\"></a>\n",
    "## Predict for Test data"
   ]
  },
  {
   "cell_type": "code",
   "execution_count": 18,
   "metadata": {},
   "outputs": [
    {
     "name": "stdout",
     "output_type": "stream",
     "text": [
      "Row(PersonInfo='1st 71 male', prediction=0.0, probability=DenseVector([0.9576, 0.0424]))\n",
      "Row(PersonInfo='1st 36 female', prediction=1.0, probability=DenseVector([0.0336, 0.9664]))\n",
      "Row(PersonInfo='1st 42 male', prediction=0.0, probability=DenseVector([0.7865, 0.2135]))\n",
      "Row(PersonInfo='1st 19 female', prediction=1.0, probability=DenseVector([0.0299, 0.9701]))\n",
      "Row(PersonInfo='1st 46 male', prediction=0.0, probability=DenseVector([0.8983, 0.1017]))\n",
      "Row(PersonInfo='1st 42 male', prediction=0.0, probability=DenseVector([0.7865, 0.2135]))\n",
      "Row(PersonInfo='1st 40 female', prediction=1.0, probability=DenseVector([0.1823, 0.8177]))\n",
      "Row(PersonInfo='1st 65 male', prediction=0.0, probability=DenseVector([0.5892, 0.4108]))\n",
      "Row(PersonInfo='1st 58 male', prediction=0.0, probability=DenseVector([0.6742, 0.3258]))\n",
      "Row(PersonInfo='1st 23 female', prediction=1.0, probability=DenseVector([0.1148, 0.8852]))\n",
      "Row(PersonInfo='1st 36 male', prediction=1.0, probability=DenseVector([0.3832, 0.6168]))\n",
      "Row(PersonInfo='1st 37 male', prediction=0.0, probability=DenseVector([0.9149, 0.0851]))\n",
      "Row(PersonInfo='1st 27 female', prediction=1.0, probability=DenseVector([0.1401, 0.8599]))\n",
      "Row(PersonInfo='1st 61 male', prediction=0.0, probability=DenseVector([0.9692, 0.0308]))\n",
      "Row(PersonInfo='1st 40 female', prediction=1.0, probability=DenseVector([0.1823, 0.8177]))\n",
      "Row(PersonInfo='1st 50 male', prediction=0.0, probability=DenseVector([0.7483, 0.2517]))\n",
      "Row(PersonInfo='1st 56 male', prediction=0.0, probability=DenseVector([0.8548, 0.1452]))\n",
      "Row(PersonInfo='1st 24 male', prediction=1.0, probability=DenseVector([0.4705, 0.5295]))\n",
      "Row(PersonInfo='1st 43 female', prediction=1.0, probability=DenseVector([0.2451, 0.7549]))\n",
      "Row(PersonInfo='1st 67 male', prediction=0.0, probability=DenseVector([0.5892, 0.4108]))\n",
      "Row(PersonInfo='1st 46 male', prediction=0.0, probability=DenseVector([0.8983, 0.1017]))\n",
      "Row(PersonInfo='1st 60 female', prediction=1.0, probability=DenseVector([0.0462, 0.9538]))\n",
      "Row(PersonInfo='1st 50 male', prediction=0.0, probability=DenseVector([0.7483, 0.2517]))\n",
      "Row(PersonInfo='1st 20 female', prediction=1.0, probability=DenseVector([0.0509, 0.9491]))\n",
      "Row(PersonInfo='2nd 28 female', prediction=1.0, probability=DenseVector([0.3034, 0.6966]))\n",
      "Row(PersonInfo='2nd 19 female', prediction=1.0, probability=DenseVector([0.0931, 0.9069]))\n",
      "Row(PersonInfo='2nd 26 male', prediction=0.0, probability=DenseVector([0.7337, 0.2663]))\n",
      "Row(PersonInfo='2nd 27 male', prediction=0.0, probability=DenseVector([0.9065, 0.0935]))\n",
      "Row(PersonInfo='2nd 40 female', prediction=1.0, probability=DenseVector([0.4264, 0.5736]))\n",
      "Row(PersonInfo='2nd 42 female', prediction=1.0, probability=DenseVector([0.4077, 0.5923]))\n",
      "Row(PersonInfo='2nd 0.83 male', prediction=1.0, probability=DenseVector([0.0209, 0.9791]))\n",
      "Row(PersonInfo='2nd 52 male', prediction=0.0, probability=DenseVector([0.7984, 0.2016]))\n",
      "Row(PersonInfo='2nd 30 male', prediction=0.0, probability=DenseVector([0.9035, 0.0965]))\n",
      "Row(PersonInfo='1st 45 female', prediction=1.0, probability=DenseVector([0.0743, 0.9257]))\n",
      "Row(PersonInfo='1st 22 female', prediction=1.0, probability=DenseVector([0.0857, 0.9143]))\n",
      "Row(PersonInfo='2nd 22 female', prediction=1.0, probability=DenseVector([0.2382, 0.7618]))\n",
      "Row(PersonInfo='2nd 25 male', prediction=0.0, probability=DenseVector([0.7988, 0.2012]))\n",
      "Row(PersonInfo='2nd 18 female', prediction=1.0, probability=DenseVector([0.3208, 0.6792]))\n",
      "Row(PersonInfo='2nd 8 male', prediction=1.0, probability=DenseVector([0.0995, 0.9005]))\n",
      "Row(PersonInfo='2nd 21 male', prediction=0.0, probability=DenseVector([0.8745, 0.1255]))\n",
      "Row(PersonInfo='2nd 19 male', prediction=0.0, probability=DenseVector([0.6469, 0.3531]))\n",
      "Row(PersonInfo='2nd 38 female', prediction=1.0, probability=DenseVector([0.1352, 0.8648]))\n",
      "Row(PersonInfo='2nd 35 male', prediction=0.0, probability=DenseVector([0.7575, 0.2425]))\n",
      "Row(PersonInfo='2nd 38 male', prediction=0.0, probability=DenseVector([0.7362, 0.2638]))\n",
      "Row(PersonInfo='2nd 24 male', prediction=0.0, probability=DenseVector([0.7477, 0.2523]))\n",
      "Row(PersonInfo='2nd 30 male', prediction=0.0, probability=DenseVector([0.9035, 0.0965]))\n",
      "Row(PersonInfo='2nd 43 male', prediction=0.0, probability=DenseVector([0.9508, 0.0492]))\n",
      "Row(PersonInfo='2nd 49 male', prediction=1.0, probability=DenseVector([0.471, 0.529]))\n",
      "Row(PersonInfo='2nd 34 male', prediction=0.0, probability=DenseVector([0.7232, 0.2768]))\n",
      "Row(PersonInfo='2nd 21 male', prediction=0.0, probability=DenseVector([0.8745, 0.1255]))\n",
      "Row(PersonInfo='2nd 23 female', prediction=1.0, probability=DenseVector([0.3018, 0.6982]))\n",
      "Row(PersonInfo='2nd 26 male', prediction=0.0, probability=DenseVector([0.7337, 0.2663]))\n",
      "Row(PersonInfo='2nd 3 female', prediction=1.0, probability=DenseVector([0.0035, 0.9965]))\n",
      "Row(PersonInfo='2nd 25 male', prediction=0.0, probability=DenseVector([0.7988, 0.2012]))\n",
      "Row(PersonInfo='2nd 48 male', prediction=0.0, probability=DenseVector([0.7823, 0.2177]))\n",
      "Row(PersonInfo='2nd 20 male', prediction=0.0, probability=DenseVector([0.7614, 0.2386]))\n",
      "Row(PersonInfo='1st 36 female', prediction=1.0, probability=DenseVector([0.0336, 0.9664]))\n",
      "Row(PersonInfo='1st 14 female', prediction=0.0, probability=DenseVector([0.5933, 0.4067]))\n",
      "Row(PersonInfo='1st 49 male', prediction=1.0, probability=DenseVector([0.2107, 0.7893]))\n",
      "Row(PersonInfo='1st 27 male', prediction=0.0, probability=DenseVector([0.7441, 0.2559]))\n",
      "Row(PersonInfo='1st 39 female', prediction=1.0, probability=DenseVector([0.0535, 0.9465]))\n",
      "Row(PersonInfo='1st 27 male', prediction=0.0, probability=DenseVector([0.7441, 0.2559]))\n",
      "Row(PersonInfo='1st 27 female', prediction=1.0, probability=DenseVector([0.1401, 0.8599]))\n",
      "Row(PersonInfo='1st 4 male', prediction=1.0, probability=DenseVector([0.088, 0.912]))\n",
      "Row(PersonInfo='1st 27 female', prediction=1.0, probability=DenseVector([0.1401, 0.8599]))\n",
      "Row(PersonInfo='1st 48 female', prediction=1.0, probability=DenseVector([0.0569, 0.9431]))\n",
      "Row(PersonInfo='1st 39 male', prediction=0.0, probability=DenseVector([0.5024, 0.4976]))\n",
      "Row(PersonInfo='1st 36 female', prediction=1.0, probability=DenseVector([0.0336, 0.9664]))\n",
      "Row(PersonInfo='1st 58 female', prediction=1.0, probability=DenseVector([0.1039, 0.8961]))\n",
      "Row(PersonInfo='1st 54 male', prediction=0.0, probability=DenseVector([0.6963, 0.3037]))\n",
      "Row(PersonInfo='1st 23 male', prediction=0.0, probability=DenseVector([0.6982, 0.3018]))\n",
      "Row(PersonInfo='2nd 30 male', prediction=0.0, probability=DenseVector([0.9035, 0.0965]))\n",
      "Row(PersonInfo='2nd 32 male', prediction=1.0, probability=DenseVector([0.489, 0.511]))\n",
      "Row(PersonInfo='2nd 2 male', prediction=0.0, probability=DenseVector([0.9353, 0.0647]))\n",
      "Row(PersonInfo='2nd 22 male', prediction=0.0, probability=DenseVector([0.848, 0.152]))\n",
      "Row(PersonInfo='2nd 24 male', prediction=0.0, probability=DenseVector([0.7477, 0.2523]))\n",
      "Row(PersonInfo='2nd 20 male', prediction=0.0, probability=DenseVector([0.7614, 0.2386]))\n",
      "Row(PersonInfo='2nd 33 female', prediction=1.0, probability=DenseVector([0.3623, 0.6377]))\n",
      "Row(PersonInfo='2nd 34 male', prediction=0.0, probability=DenseVector([0.7232, 0.2768]))\n",
      "Row(PersonInfo='2nd 25 female', prediction=1.0, probability=DenseVector([0.1819, 0.8181]))\n",
      "Row(PersonInfo='2nd 50 female', prediction=1.0, probability=DenseVector([0.3571, 0.6429]))\n",
      "Row(PersonInfo='2nd 59 male', prediction=0.0, probability=DenseVector([0.8257, 0.1743]))\n",
      "Row(PersonInfo='2nd 36 female', prediction=1.0, probability=DenseVector([0.104, 0.896]))\n",
      "Row(PersonInfo='2nd 2 male', prediction=0.0, probability=DenseVector([0.9353, 0.0647]))\n",
      "Row(PersonInfo='2nd 36 male', prediction=0.0, probability=DenseVector([0.6745, 0.3255]))\n",
      "Row(PersonInfo='2nd 32 male', prediction=1.0, probability=DenseVector([0.489, 0.511]))\n",
      "Row(PersonInfo='2nd 18 male', prediction=0.0, probability=DenseVector([0.894, 0.106]))\n",
      "Row(PersonInfo='3rd 41 male', prediction=0.0, probability=DenseVector([0.933, 0.067]))\n",
      "Row(PersonInfo='3rd 23 male', prediction=0.0, probability=DenseVector([0.9536, 0.0464]))\n",
      "Row(PersonInfo='3rd 20 male', prediction=0.0, probability=DenseVector([0.8947, 0.1053]))\n",
      "Row(PersonInfo='3rd 39 female', prediction=1.0, probability=DenseVector([0.3343, 0.6657]))\n",
      "Row(PersonInfo='3rd 38 female', prediction=1.0, probability=DenseVector([0.2939, 0.7061]))\n",
      "Row(PersonInfo='3rd 4 male', prediction=1.0, probability=DenseVector([0.4614, 0.5386]))\n",
      "Row(PersonInfo='3rd 20 male', prediction=0.0, probability=DenseVector([0.8947, 0.1053]))\n",
      "Row(PersonInfo='3rd 26 male', prediction=0.0, probability=DenseVector([0.88, 0.12]))\n",
      "Row(PersonInfo='3rd 9 male', prediction=0.0, probability=DenseVector([0.9729, 0.0271]))\n",
      "Row(PersonInfo='3rd 3 male', prediction=1.0, probability=DenseVector([0.1441, 0.8559]))\n",
      "Row(PersonInfo='3rd 23 male', prediction=0.0, probability=DenseVector([0.9536, 0.0464]))\n",
      "Row(PersonInfo='3rd 5 female', prediction=0.0, probability=DenseVector([0.7718, 0.2282]))\n",
      "Row(PersonInfo='3rd 23 male', prediction=0.0, probability=DenseVector([0.9536, 0.0464]))\n",
      "Row(PersonInfo='3rd 20 male', prediction=0.0, probability=DenseVector([0.8947, 0.1053]))\n",
      "Row(PersonInfo='3rd 33 female', prediction=0.0, probability=DenseVector([0.6019, 0.3981]))\n",
      "Row(PersonInfo='3rd 40 male', prediction=0.0, probability=DenseVector([0.9725, 0.0275]))\n",
      "Row(PersonInfo='3rd 27 female', prediction=0.0, probability=DenseVector([0.5913, 0.4087]))\n",
      "Row(PersonInfo='3rd 40 male', prediction=0.0, probability=DenseVector([0.9725, 0.0275]))\n",
      "Row(PersonInfo='3rd 32 female', prediction=1.0, probability=DenseVector([0.1249, 0.8751]))\n",
      "Row(PersonInfo='3rd 18 female', prediction=0.0, probability=DenseVector([0.557, 0.443]))\n",
      "Row(PersonInfo='3rd 22 male', prediction=0.0, probability=DenseVector([0.9369, 0.0631]))\n",
      "Row(PersonInfo='3rd 21 male', prediction=0.0, probability=DenseVector([0.9489, 0.0511]))\n",
      "Row(PersonInfo='3rd 19 male', prediction=0.0, probability=DenseVector([0.8299, 0.1701]))\n",
      "Row(PersonInfo='3rd 18 female', prediction=0.0, probability=DenseVector([0.557, 0.443]))\n",
      "Row(PersonInfo='3rd 30 male', prediction=0.0, probability=DenseVector([0.9614, 0.0386]))\n",
      "Row(PersonInfo='3rd 29 male', prediction=0.0, probability=DenseVector([0.9178, 0.0822]))\n",
      "Row(PersonInfo='3rd 26 male', prediction=0.0, probability=DenseVector([0.88, 0.12]))\n",
      "Row(PersonInfo='3rd 20 male', prediction=0.0, probability=DenseVector([0.8947, 0.1053]))\n",
      "Row(PersonInfo='3rd 24 male', prediction=0.0, probability=DenseVector([0.8875, 0.1125]))\n",
      "Row(PersonInfo='3rd 36 male', prediction=0.0, probability=DenseVector([0.8465, 0.1535]))\n",
      "Row(PersonInfo='3rd 35 male', prediction=0.0, probability=DenseVector([0.8926, 0.1074]))\n",
      "Row(PersonInfo='3rd 30 male', prediction=0.0, probability=DenseVector([0.9614, 0.0386]))\n",
      "Row(PersonInfo='3rd 3 male', prediction=1.0, probability=DenseVector([0.1441, 0.8559]))\n",
      "Row(PersonInfo='3rd 9 male', prediction=0.0, probability=DenseVector([0.9729, 0.0271]))\n",
      "Row(PersonInfo='3rd 19 male', prediction=0.0, probability=DenseVector([0.8299, 0.1701]))\n",
      "Row(PersonInfo='3rd 0.33 male', prediction=0.0, probability=DenseVector([0.9272, 0.0728]))\n",
      "Row(PersonInfo='3rd 21 male', prediction=0.0, probability=DenseVector([0.9489, 0.0511]))\n",
      "Row(PersonInfo='3rd 17 male', prediction=0.0, probability=DenseVector([0.911, 0.089]))\n",
      "Row(PersonInfo='3rd 33 female', prediction=0.0, probability=DenseVector([0.6019, 0.3981]))\n",
      "Row(PersonInfo='3rd 36 male', prediction=0.0, probability=DenseVector([0.8465, 0.1535]))\n",
      "Row(PersonInfo='3rd 23 male', prediction=0.0, probability=DenseVector([0.9536, 0.0464]))\n",
      "Row(PersonInfo='3rd 65 male', prediction=0.0, probability=DenseVector([0.9272, 0.0728]))\n",
      "Row(PersonInfo='3rd 19 male', prediction=0.0, probability=DenseVector([0.8299, 0.1701]))\n",
      "Row(PersonInfo='3rd 23 male', prediction=0.0, probability=DenseVector([0.9536, 0.0464]))\n",
      "Row(PersonInfo='3rd 18 male', prediction=0.0, probability=DenseVector([0.9573, 0.0427]))\n",
      "Row(PersonInfo='3rd 5 female', prediction=0.0, probability=DenseVector([0.7718, 0.2282]))\n",
      "Row(PersonInfo='3rd 18 male', prediction=0.0, probability=DenseVector([0.9573, 0.0427]))\n",
      "Row(PersonInfo='3rd 11 male', prediction=0.0, probability=DenseVector([0.9265, 0.0735]))\n",
      "Row(PersonInfo='3rd 20 male', prediction=0.0, probability=DenseVector([0.8947, 0.1053]))\n",
      "Row(PersonInfo='3rd 19 male', prediction=0.0, probability=DenseVector([0.8299, 0.1701]))\n",
      "Row(PersonInfo='3rd 20 male', prediction=0.0, probability=DenseVector([0.8947, 0.1053]))\n",
      "Row(PersonInfo='3rd 45 female', prediction=1.0, probability=DenseVector([0.4161, 0.5839]))\n",
      "Row(PersonInfo='3rd 21 male', prediction=0.0, probability=DenseVector([0.9489, 0.0511]))\n",
      "Row(PersonInfo='3rd 23 female', prediction=0.0, probability=DenseVector([0.5351, 0.4649]))\n",
      "Row(PersonInfo='3rd 27 male', prediction=0.0, probability=DenseVector([0.9627, 0.0373]))\n",
      "Row(PersonInfo='3rd 48 male', prediction=0.0, probability=DenseVector([0.9053, 0.0947]))\n",
      "Row(PersonInfo='3rd 29 male', prediction=0.0, probability=DenseVector([0.9178, 0.0822]))\n",
      "Row(PersonInfo='3rd 49 male', prediction=0.0, probability=DenseVector([0.7033, 0.2967]))\n",
      "Row(PersonInfo='3rd 33 male', prediction=0.0, probability=DenseVector([0.9643, 0.0357]))\n",
      "Row(PersonInfo='3rd 4 male', prediction=1.0, probability=DenseVector([0.4614, 0.5386]))\n",
      "Row(PersonInfo='3rd 17 male', prediction=0.0, probability=DenseVector([0.911, 0.089]))\n",
      "Row(PersonInfo='3rd 21 male', prediction=0.0, probability=DenseVector([0.9489, 0.0511]))\n",
      "Row(PersonInfo='3rd 4 female', prediction=1.0, probability=DenseVector([0.0458, 0.9542]))\n",
      "Row(PersonInfo='3rd 21 female', prediction=0.0, probability=DenseVector([0.5097, 0.4903]))\n",
      "Row(PersonInfo='3rd 24 male', prediction=0.0, probability=DenseVector([0.8875, 0.1125]))\n",
      "Row(PersonInfo='3rd 22 female', prediction=1.0, probability=DenseVector([0.4542, 0.5458]))\n",
      "Row(PersonInfo='3rd 36 female', prediction=1.0, probability=DenseVector([0.2361, 0.7639]))\n",
      "Row(PersonInfo='3rd 22 male', prediction=0.0, probability=DenseVector([0.9369, 0.0631]))\n",
      "Row(PersonInfo='3rd 21 male', prediction=0.0, probability=DenseVector([0.9489, 0.0511]))\n",
      "Row(PersonInfo='3rd 1.5 female', prediction=0.0, probability=DenseVector([0.9637, 0.0363]))\n",
      "Row(PersonInfo='3rd 10 female', prediction=0.0, probability=DenseVector([0.9637, 0.0363]))\n",
      "Row(PersonInfo='3rd 24 male', prediction=0.0, probability=DenseVector([0.8875, 0.1125]))\n",
      "Row(PersonInfo='3rd 29 male', prediction=0.0, probability=DenseVector([0.9178, 0.0822]))\n"
     ]
    }
   ],
   "source": [
    "# Make predictions for test data and print columns of interest\n",
    "prediction = model.transform(test)\n",
    "selected = prediction.select(\"PersonInfo\", \"prediction\", \"probability\")\n",
    "for row in selected.collect():\n",
    "    print (row)"
   ]
  },
  {
   "cell_type": "code",
   "execution_count": 19,
   "metadata": {},
   "outputs": [
    {
     "name": "stdout",
     "output_type": "stream",
     "text": [
      "+----------+-----+\n",
      "|prediction|count|\n",
      "+----------+-----+\n",
      "|0.0       |109  |\n",
      "|1.0       |51   |\n",
      "+----------+-----+\n",
      "\n"
     ]
    }
   ],
   "source": [
    "#Tabulate the predicted outcome\n",
    "prediction.select(\"prediction\").groupBy(\"prediction\").count().show(truncate=False)"
   ]
  },
  {
   "cell_type": "code",
   "execution_count": 20,
   "metadata": {},
   "outputs": [
    {
     "name": "stdout",
     "output_type": "stream",
     "text": [
      "+-----+-----+\n",
      "|label|count|\n",
      "+-----+-----+\n",
      "|0.0  |99   |\n",
      "|1.0  |61   |\n",
      "+-----+-----+\n",
      "\n"
     ]
    }
   ],
   "source": [
    "#Tabulate the actual outcome\n",
    "prediction.select(\"label\").groupBy(\"label\").count().show(truncate=False)"
   ]
  },
  {
   "cell_type": "code",
   "execution_count": 21,
   "metadata": {},
   "outputs": [
    {
     "name": "stdout",
     "output_type": "stream",
     "text": [
      "+----------------+---+---+\n",
      "|label_prediction|0.0|1.0|\n",
      "+----------------+---+---+\n",
      "|             1.0| 23| 38|\n",
      "|             0.0| 86| 13|\n",
      "+----------------+---+---+\n",
      "\n"
     ]
    }
   ],
   "source": [
    "# This table shows:\n",
    "# 1. The number of passengers who survived predicted as died\n",
    "# 2. The number of passengers who survived predicted as survived\n",
    "# 3. The number of passengers who died predicted as died\n",
    "# 4. The number of passengers who died predicted as survived\n",
    "\n",
    "prediction.crosstab('label', 'prediction').show()"
   ]
  },
  {
   "cell_type": "markdown",
   "metadata": {},
   "source": [
    "<a id=\"evaluate_model\"></a>\n",
    "## Evaluate the Model\n",
    "\n",
    "We evaluate the model on a training set and on a test set.  The purpose is to measure the model's predictive accuracy, including the accuracy for new data."
   ]
  },
  {
   "cell_type": "code",
   "execution_count": 22,
   "metadata": {
    "scrolled": true
   },
   "outputs": [
    {
     "name": "stderr",
     "output_type": "stream",
     "text": [
      "/opt/ibm/spark/python/lib/pyspark.zip/pyspark/sql/context.py:157: FutureWarning: Deprecated in 3.0.0. Use SparkSession.builder.getOrCreate() instead.\n"
     ]
    },
    {
     "name": "stdout",
     "output_type": "stream",
     "text": [
      "Model evaluation for the training data\n",
      "Accuracy = 0.8355704697986577\n",
      "Error = 0.16442953020134232\n",
      "Precision = 0.826271186440678\n",
      "Recall = 0.7738095238095238\n",
      "F1 Measure = 0.7991803278688525\n"
     ]
    }
   ],
   "source": [
    "# Evaluate the Logistic Regression model on a training set\n",
    "# Select (prediction, true label) and compute test error\n",
    "pred_lr=model.transform(train).select(\"prediction\", \"label\")\n",
    "eval_lr=MulticlassClassificationEvaluator (\n",
    "    labelCol=\"label\", predictionCol=\"prediction\", metricName=\"accuracy\")\n",
    "accuracy_lr=eval_lr.evaluate(pred_lr)\n",
    "# create RDD\n",
    "predictionAndLabels_lr=pred_lr.rdd\n",
    "metrics_lr=MulticlassMetrics(predictionAndLabels_lr)\n",
    "precision_lr=metrics_lr.precision(1.0)\n",
    "recall_lr=metrics_lr.recall(1.0)\n",
    "f1Measure_lr = metrics_lr.fMeasure(1.0, 1.0)\n",
    "print (\"Model evaluation for the training data\")\n",
    "print (\"Accuracy = %s\" %accuracy_lr)\n",
    "print (\"Error = %s\" % (1-accuracy_lr))\n",
    "print (\"Precision = %s\" %precision_lr)\n",
    "print (\"Recall = %s\" %recall_lr)\n",
    "print(\"F1 Measure = %s\" % f1Measure_lr)"
   ]
  },
  {
   "cell_type": "code",
   "execution_count": 23,
   "metadata": {},
   "outputs": [
    {
     "name": "stdout",
     "output_type": "stream",
     "text": [
      "Model evaluation for the test data\n",
      "Accuracy = 0.775\n",
      "Error = 0.22499999999999998\n",
      "Precision = 0.7450980392156863\n",
      "Recall = 0.6229508196721312\n",
      "F1 Measure = 0.6785714285714286\n"
     ]
    }
   ],
   "source": [
    "# Evaluate the Logistic Regression model on a test set\n",
    "# Select (prediction, true label) and compute test error\n",
    "pred_lr=model.transform(test).select(\"prediction\", \"label\")\n",
    "eval_lr=MulticlassClassificationEvaluator (\n",
    "    labelCol=\"label\", predictionCol=\"prediction\", metricName=\"accuracy\")\n",
    "accuracy_lr=eval_lr.evaluate(pred_lr)\n",
    "# create RDD\n",
    "predictionAndLabels_lr=pred_lr.rdd\n",
    "metrics_lr=MulticlassMetrics(predictionAndLabels_lr)\n",
    "precision_lr=metrics_lr.precision(1.0)\n",
    "recall_lr=metrics_lr.recall(1.0)\n",
    "f1Measure_lr = metrics_lr.fMeasure(1.0, 1.0)\n",
    "print (\"Model evaluation for the test data\")\n",
    "print (\"Accuracy = %s\" %accuracy_lr)\n",
    "print (\"Error = %s\" % (1-accuracy_lr))\n",
    "print (\"Precision = %s\" %precision_lr)\n",
    "print (\"Recall = %s\" %recall_lr)\n",
    "print (\"F1 Measure = %s\" % f1Measure_lr)"
   ]
  },
  {
   "cell_type": "code",
   "execution_count": 24,
   "metadata": {},
   "outputs": [
    {
     "name": "stdout",
     "output_type": "stream",
     "text": [
      "Area under PR = 0.6765037367405979\n",
      "Area under ROC = 0.7458188441795\n"
     ]
    }
   ],
   "source": [
    "bin_lr=BinaryClassificationMetrics(predictionAndLabels_lr)\n",
    "\n",
    "# Area under precision-recall curve\n",
    "print(\"Area under PR = %s\" % bin_lr.areaUnderPR)\n",
    "# Area under Receiver operating characteristic curve\n",
    "print(\"Area under ROC = %s\" % bin_lr.areaUnderROC)"
   ]
  },
  {
   "cell_type": "markdown",
   "metadata": {},
   "source": [
    "<a id=\"ROC_plot\"></a>\n",
    "## ROC Curve Plot\n",
    "The Binary Logistic Regression method returns the pyspark.ml.classification.BinaryLogisticRegressionTrainingSummary object. We may use the roc method to obtain the coordinates of the points on Receiver operating characteristic (ROC) curve.  The coordinates are stored in a Dataframe with two fields FPR=false positive rate and TPR=true positive rate"
   ]
  },
  {
   "cell_type": "code",
   "execution_count": 25,
   "metadata": {},
   "outputs": [
    {
     "name": "stdout",
     "output_type": "stream",
     "text": [
      "+---+--------------------+\n",
      "|FPR|                 TPR|\n",
      "+---+--------------------+\n",
      "|0.0|                 0.0|\n",
      "|0.0|0.003968253968253968|\n",
      "|0.0|0.011904761904761904|\n",
      "|0.0|0.015873015873015872|\n",
      "|0.0| 0.01984126984126984|\n",
      "|0.0|0.027777777777777776|\n",
      "|0.0|0.031746031746031744|\n",
      "|0.0| 0.03571428571428571|\n",
      "|0.0| 0.03968253968253968|\n",
      "|0.0|0.047619047619047616|\n",
      "|0.0| 0.05555555555555555|\n",
      "|0.0| 0.05952380952380952|\n",
      "|0.0| 0.07142857142857142|\n",
      "|0.0| 0.07539682539682539|\n",
      "|0.0| 0.08333333333333333|\n",
      "|0.0|  0.0873015873015873|\n",
      "|0.0| 0.09126984126984126|\n",
      "|0.0| 0.09523809523809523|\n",
      "|0.0|  0.0992063492063492|\n",
      "|0.0| 0.10317460317460317|\n",
      "+---+--------------------+\n",
      "only showing top 20 rows\n",
      "\n"
     ]
    }
   ],
   "source": [
    "#The firt 20 ROC curve points\n",
    "model.stages[2].summary.roc.show()"
   ]
  },
  {
   "cell_type": "code",
   "execution_count": 26,
   "metadata": {},
   "outputs": [
    {
     "data": {
      "text/plain": [
       "<Axes: xlabel='FPR'>"
      ]
     },
     "execution_count": 26,
     "metadata": {},
     "output_type": "execute_result"
    },
    {
     "data": {
      "image/png": "[encoded data removed]",
      "text/plain": [
       "<Figure size 640x480 with 1 Axes>"
      ]
     },
     "metadata": {},
     "output_type": "display_data"
    }
   ],
   "source": [
    "import matplotlib.pyplot as plt\n",
    "%matplotlib inline\n",
    "ROC=model.stages[2].summary.roc\n",
    "df=ROC.toPandas()\n",
    "\n",
    "df.plot(x='FPR', y='TPR', legend=False)"
   ]
  }
 ],
 "metadata": {
  "kernelspec": {
   "display_name": "Python 3.10 with Spark",
   "language": "python3",
   "name": "python310"
  },
  "language_info": {
   "codemirror_mode": {
    "name": "ipython",
    "version": 3
   },
   "file_extension": ".py",
   "mimetype": "text/x-python",
   "name": "python",
   "nbconvert_exporter": "python",
   "pygments_lexer": "ipython3",
   "version": "3.10.13"
  },
  "name": "machineLearningHAVCBluemix.ipynb"
 },
 "nbformat": 4,
 "nbformat_minor": 1
}
